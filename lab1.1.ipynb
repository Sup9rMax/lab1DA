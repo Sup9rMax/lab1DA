{
 "cells": [
  {
   "cell_type": "code",
   "execution_count": 64,
   "id": "31589afb",
   "metadata": {},
   "outputs": [
    {
     "name": "stdout",
     "output_type": "stream",
     "text": [
      "    age         workclass  fnlwgt     education  education-num  \\\n",
      "0    39         State-gov   77516     Bachelors             13   \n",
      "1    50  Self-emp-not-inc   83311     Bachelors             13   \n",
      "2    38           Private  215646       HS-grad              9   \n",
      "3    53           Private  234721          11th              7   \n",
      "4    28           Private  338409     Bachelors             13   \n",
      "5    37           Private  284582       Masters             14   \n",
      "6    49           Private  160187           9th              5   \n",
      "7    52  Self-emp-not-inc  209642       HS-grad              9   \n",
      "8    31           Private   45781       Masters             14   \n",
      "9    42           Private  159449     Bachelors             13   \n",
      "10   37           Private  280464  Some-college             10   \n",
      "11   30         State-gov  141297     Bachelors             13   \n",
      "12   23           Private  122272     Bachelors             13   \n",
      "13   32           Private  205019    Assoc-acdm             12   \n",
      "14   40           Private  121772     Assoc-voc             11   \n",
      "15   34           Private  245487       7th-8th              4   \n",
      "16   25  Self-emp-not-inc  176756       HS-grad              9   \n",
      "17   32           Private  186824       HS-grad              9   \n",
      "18   38           Private   28887          11th              7   \n",
      "19   43  Self-emp-not-inc  292175       Masters             14   \n",
      "\n",
      "           marital-status         occupation   relationship  \\\n",
      "0           Never-married       Adm-clerical  Not-in-family   \n",
      "1      Married-civ-spouse    Exec-managerial        Husband   \n",
      "2                Divorced  Handlers-cleaners  Not-in-family   \n",
      "3      Married-civ-spouse  Handlers-cleaners        Husband   \n",
      "4      Married-civ-spouse     Prof-specialty           Wife   \n",
      "5      Married-civ-spouse    Exec-managerial           Wife   \n",
      "6   Married-spouse-absent      Other-service  Not-in-family   \n",
      "7      Married-civ-spouse    Exec-managerial        Husband   \n",
      "8           Never-married     Prof-specialty  Not-in-family   \n",
      "9      Married-civ-spouse    Exec-managerial        Husband   \n",
      "10     Married-civ-spouse    Exec-managerial        Husband   \n",
      "11     Married-civ-spouse     Prof-specialty        Husband   \n",
      "12          Never-married       Adm-clerical      Own-child   \n",
      "13          Never-married              Sales  Not-in-family   \n",
      "14     Married-civ-spouse       Craft-repair        Husband   \n",
      "15     Married-civ-spouse   Transport-moving        Husband   \n",
      "16          Never-married    Farming-fishing      Own-child   \n",
      "17          Never-married  Machine-op-inspct      Unmarried   \n",
      "18     Married-civ-spouse              Sales        Husband   \n",
      "19               Divorced    Exec-managerial      Unmarried   \n",
      "\n",
      "                  race     sex  capital-gain  capital-loss  hours-per-week  \\\n",
      "0                White    Male          2174             0              40   \n",
      "1                White    Male             0             0              13   \n",
      "2                White    Male             0             0              40   \n",
      "3                Black    Male             0             0              40   \n",
      "4                Black  Female             0             0              40   \n",
      "5                White  Female             0             0              40   \n",
      "6                Black  Female             0             0              16   \n",
      "7                White    Male             0             0              45   \n",
      "8                White  Female         14084             0              50   \n",
      "9                White    Male          5178             0              40   \n",
      "10               Black    Male             0             0              80   \n",
      "11  Asian-Pac-Islander    Male             0             0              40   \n",
      "12               White  Female             0             0              30   \n",
      "13               Black    Male             0             0              50   \n",
      "14  Asian-Pac-Islander    Male             0             0              40   \n",
      "15  Amer-Indian-Eskimo    Male             0             0              45   \n",
      "16               White    Male             0             0              35   \n",
      "17               White    Male             0             0              40   \n",
      "18               White    Male             0             0              50   \n",
      "19               White  Female             0             0              45   \n",
      "\n",
      "   native-country salary  \n",
      "0   United-States  <=50K  \n",
      "1   United-States  <=50K  \n",
      "2   United-States  <=50K  \n",
      "3   United-States  <=50K  \n",
      "4            Cuba  <=50K  \n",
      "5   United-States  <=50K  \n",
      "6         Jamaica  <=50K  \n",
      "7   United-States   >50K  \n",
      "8   United-States   >50K  \n",
      "9   United-States   >50K  \n",
      "10  United-States   >50K  \n",
      "11          India   >50K  \n",
      "12  United-States  <=50K  \n",
      "13  United-States  <=50K  \n",
      "14              ?   >50K  \n",
      "15         Mexico  <=50K  \n",
      "16  United-States  <=50K  \n",
      "17  United-States  <=50K  \n",
      "18  United-States  <=50K  \n",
      "19  United-States   >50K  \n"
     ]
    }
   ],
   "source": [
    "import numpy as np\n",
    "import pandas as pd\n",
    "\n",
    "data = pd.read_csv(r\"C:\\Users\\User\\Downloads\\adult.data.csv\")\n",
    "print(data.head(20))\n"
   ]
  },
  {
   "cell_type": "markdown",
   "id": "1c752835",
   "metadata": {},
   "source": [
    "Male Female distributiom"
   ]
  },
  {
   "cell_type": "code",
   "execution_count": 37,
   "id": "1e4169eb",
   "metadata": {},
   "outputs": [
    {
     "name": "stdout",
     "output_type": "stream",
     "text": [
      "sex\n",
      "Male      21790\n",
      "Female    10771\n"
     ]
    }
   ],
   "source": [
    "countf = data[\"sex\"].value_counts()  \n",
    "print(countf.to_string())"
   ]
  },
  {
   "cell_type": "markdown",
   "id": "066318b9",
   "metadata": {},
   "source": [
    "Married man %"
   ]
  },
  {
   "cell_type": "code",
   "execution_count": 49,
   "id": "0a02d42d",
   "metadata": {},
   "outputs": [
    {
     "name": "stdout",
     "output_type": "stream",
     "text": [
      "46.06431006418722 %\n"
     ]
    }
   ],
   "source": [
    "total_men_married =data[\n",
    "    (data[\"marital-status\"] == \"Married-civ-spouse\") |\n",
    "    (data[\"marital-status\"] == \"Married-AF-spouse\")\n",
    "].shape[0]\n",
    "\n",
    "total_men = (data[\"sex\"]== \"male\").shape[0]\n",
    "\n",
    "if total_men != 0:\n",
    "\n",
    "    print(((total_men_married / total_men) * 100),\"%\") "
   ]
  },
  {
   "cell_type": "markdown",
   "id": "49f35f81",
   "metadata": {},
   "source": [
    "Male Female distributiom"
   ]
  },
  {
   "cell_type": "code",
   "execution_count": null,
   "id": "42f60965",
   "metadata": {},
   "outputs": [
    {
     "name": "stdout",
     "output_type": "stream",
     "text": [
      "0.42074874850281013 %\n"
     ]
    }
   ],
   "source": [
    "native_country_german =data[\n",
    "    (data[\"native-country\"] == \"Germany\") \n",
    "].shape[0]\n",
    "native_country = (data[\"native-country\"]).shape[0]\n",
    "total = (native_country_german / native_country * 100) \n",
    "print(total,\"%\")\n"
   ]
  },
  {
   "cell_type": "markdown",
   "id": "f1dc46d8",
   "metadata": {},
   "source": [
    "the mean and standard deviation of age for those who earn more than 50K per year and those who earn less than 50K per year"
   ]
  },
  {
   "cell_type": "code",
   "execution_count": 65,
   "id": "f4814fa8",
   "metadata": {},
   "outputs": [
    {
     "name": "stdout",
     "output_type": "stream",
     "text": [
      "             mean        std\n",
      "salary                      \n",
      "<=50K   36.783738  14.020088\n",
      ">50K    44.249841  10.519028\n"
     ]
    }
   ],
   "source": [
    "stats = data.groupby(\"salary\")[\"age\"].agg([\"mean\",\"std\"])\n",
    "print(stats)\n"
   ]
  },
  {
   "cell_type": "markdown",
   "id": "43fdacec",
   "metadata": {},
   "source": [
    "Is it true that percentage of men among people who earn more than 50K have is more than percentage of women?"
   ]
  },
  {
   "cell_type": "code",
   "execution_count": null,
   "id": "700355c3",
   "metadata": {},
   "outputs": [
    {
     "name": "stdout",
     "output_type": "stream",
     "text": [
      "Male: 84.96%\n",
      "Female: 15.04%\n"
     ]
    }
   ],
   "source": [
    "income = data[data['salary'] == '>50K']\n",
    "count = income['sex'].value_counts()\n",
    "count_prsnt = (count / count.sum()) * 100\n",
    "for gender, pct in count_prsnt.items():\n",
    "    print(f\"{gender}: {pct:.2f}%\")\n"
   ]
  },
  {
   "cell_type": "markdown",
   "id": "06488d99",
   "metadata": {},
   "source": [
    "7. Is it true that people who earn more than 50K have at least high school education? "
   ]
  },
  {
   "cell_type": "code",
   "execution_count": null,
   "id": "0a5d06b5",
   "metadata": {},
   "outputs": [],
   "source": []
  }
 ],
 "metadata": {
  "kernelspec": {
   "display_name": ".venv",
   "language": "python",
   "name": "python3"
  },
  "language_info": {
   "codemirror_mode": {
    "name": "ipython",
    "version": 3
   },
   "file_extension": ".py",
   "mimetype": "text/x-python",
   "name": "python",
   "nbconvert_exporter": "python",
   "pygments_lexer": "ipython3",
   "version": "3.9.13"
  }
 },
 "nbformat": 4,
 "nbformat_minor": 5
}
